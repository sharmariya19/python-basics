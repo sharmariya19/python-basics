{
  "nbformat": 4,
  "nbformat_minor": 0,
  "metadata": {
    "colab": {
      "provenance": [],
      "authorship_tag": "ABX9TyOGDuC7LNntIypqhoITY9u4",
      "include_colab_link": true
    },
    "kernelspec": {
      "name": "python3",
      "display_name": "Python 3"
    },
    "language_info": {
      "name": "python"
    }
  },
  "cells": [
    {
      "cell_type": "markdown",
      "metadata": {
        "id": "view-in-github",
        "colab_type": "text"
      },
      "source": [
        "<a href=\"https://colab.research.google.com/github/sharmariya19/python-basics/blob/main/Errors_and_Exception_Handling.ipynb\" target=\"_parent\"><img src=\"https://colab.research.google.com/assets/colab-badge.svg\" alt=\"Open In Colab\"/></a>"
      ]
    },
    {
      "cell_type": "markdown",
      "source": [
        "## Syntax Errors"
      ],
      "metadata": {
        "id": "Xmx0NZhP1pWU"
      }
    },
    {
      "cell_type": "code",
      "execution_count": 78,
      "metadata": {
        "colab": {
          "base_uri": "https://localhost:8080/",
          "height": 131
        },
        "id": "dP9tAfb4b3kQ",
        "outputId": "2a92d228-8bca-4b37-9c71-669f394dd1d8"
      },
      "outputs": [
        {
          "output_type": "error",
          "ename": "SyntaxError",
          "evalue": "ignored",
          "traceback": [
            "\u001b[0;36m  File \u001b[0;32m\"<ipython-input-78-39c1fed3c3cd>\"\u001b[0;36m, line \u001b[0;32m5\u001b[0m\n\u001b[0;31m    sub3 = sub1 sub2\u001b[0m\n\u001b[0m                   ^\u001b[0m\n\u001b[0;31mSyntaxError\u001b[0m\u001b[0;31m:\u001b[0m invalid syntax\n"
          ]
        }
      ],
      "source": [
        "#syntax error\n",
        "sub1 = \"Phy\"\n",
        "sub2 = \"Bio\"\n",
        "\n",
        "sub3 = sub1 sub2\n"
      ]
    },
    {
      "cell_type": "code",
      "source": [
        "#syntax error - missing colon\n",
        "\n",
        "if 2 == 3\n",
        "print(\"Equal\")\n"
      ],
      "metadata": {
        "colab": {
          "base_uri": "https://localhost:8080/",
          "height": 131
        },
        "id": "Tnob6Sfy2BJm",
        "outputId": "13039829-91c7-41a4-d423-6a628a56e628"
      },
      "execution_count": 79,
      "outputs": [
        {
          "output_type": "error",
          "ename": "SyntaxError",
          "evalue": "ignored",
          "traceback": [
            "\u001b[0;36m  File \u001b[0;32m\"<ipython-input-79-e2a6a856f3aa>\"\u001b[0;36m, line \u001b[0;32m3\u001b[0m\n\u001b[0;31m    if 2 == 3\u001b[0m\n\u001b[0m             ^\u001b[0m\n\u001b[0;31mSyntaxError\u001b[0m\u001b[0;31m:\u001b[0m invalid syntax\n"
          ]
        }
      ]
    },
    {
      "cell_type": "code",
      "source": [
        "# IndentationError\n",
        "if 1==1:\n",
        "  print(\"Both numbers are equal\")\n",
        " print(\"Okay bye\")"
      ],
      "metadata": {
        "colab": {
          "base_uri": "https://localhost:8080/",
          "height": 131
        },
        "id": "xHik5nCK5fw5",
        "outputId": "f1bb69f4-9f2d-4908-8254-0f111f711c87"
      },
      "execution_count": 81,
      "outputs": [
        {
          "output_type": "error",
          "ename": "IndentationError",
          "evalue": "ignored",
          "traceback": [
            "\u001b[0;36m  File \u001b[0;32m\"<tokenize>\"\u001b[0;36m, line \u001b[0;32m4\u001b[0m\n\u001b[0;31m    print(\"Okay bye\")\u001b[0m\n\u001b[0m    ^\u001b[0m\n\u001b[0;31mIndentationError\u001b[0m\u001b[0;31m:\u001b[0m unindent does not match any outer indentation level\n"
          ]
        }
      ]
    },
    {
      "cell_type": "markdown",
      "source": [
        "## Exception Handling"
      ],
      "metadata": {
        "id": "sSzDaAZK5X8Y"
      }
    },
    {
      "cell_type": "markdown",
      "source": [
        "### Recursion Error"
      ],
      "metadata": {
        "id": "Uc1X-sq9Y9lA"
      }
    },
    {
      "cell_type": "code",
      "source": [
        "def sum(var):\n",
        "  return sum(var+1) + var\n",
        "\n",
        "try:\n",
        "  res = sum(3)\n",
        "except RecursionError as re:\n",
        "  print(re)"
      ],
      "metadata": {
        "colab": {
          "base_uri": "https://localhost:8080/"
        },
        "id": "QezqlR3UZADh",
        "outputId": "1102d566-dee9-44b1-870b-b239ee430464"
      },
      "execution_count": 82,
      "outputs": [
        {
          "output_type": "stream",
          "name": "stdout",
          "text": [
            "maximum recursion depth exceeded\n"
          ]
        }
      ]
    },
    {
      "cell_type": "markdown",
      "source": [
        "### ZeroDivisionError"
      ],
      "metadata": {
        "id": "z-nQgAVC5yOQ"
      }
    },
    {
      "cell_type": "code",
      "source": [
        "numerator = 10\n",
        "denominator = 0\n",
        "try:\n",
        "  res = numerator/denominator\n",
        "except ZeroDivisionError as error:\n",
        "  print(\"You can not divide a number by zero\")\n",
        "else:\n",
        "  print(res)"
      ],
      "metadata": {
        "colab": {
          "base_uri": "https://localhost:8080/"
        },
        "id": "AsKdh6be519G",
        "outputId": "371d6d05-e134-4f47-f465-d371854e2c54"
      },
      "execution_count": 83,
      "outputs": [
        {
          "output_type": "stream",
          "name": "stdout",
          "text": [
            "You can not divide a number by zero\n"
          ]
        }
      ]
    },
    {
      "cell_type": "markdown",
      "source": [
        "### Type Error"
      ],
      "metadata": {
        "id": "JrjCyvTf63rY"
      }
    },
    {
      "cell_type": "code",
      "source": [
        "name = \"riya\"\n",
        "year = 4\n",
        "\n",
        "try :\n",
        "  print(name + year)\n",
        "except TypeError as te:\n",
        "  print(\"It's a type error:\", te)\n",
        "finally:\n",
        "  print(\"Hey\",name,\"go ahead!\")"
      ],
      "metadata": {
        "colab": {
          "base_uri": "https://localhost:8080/"
        },
        "id": "XiEOZE5v7BEn",
        "outputId": "da90ad1f-5dae-43f8-b6b4-8d1afc550246"
      },
      "execution_count": 86,
      "outputs": [
        {
          "output_type": "stream",
          "name": "stdout",
          "text": [
            "It's a type error: can only concatenate str (not \"int\") to str\n",
            "Hey riya go ahead!\n"
          ]
        }
      ]
    },
    {
      "cell_type": "markdown",
      "source": [
        "### Overflow Error"
      ],
      "metadata": {
        "id": "apgWC-1G7mJH"
      }
    },
    {
      "cell_type": "code",
      "source": [
        "import math\n",
        "\n",
        "try:\n",
        "  num = math.pow(1000,1000)\n",
        "except OverflowError:\n",
        "  print(\"the result is out of range\")"
      ],
      "metadata": {
        "colab": {
          "base_uri": "https://localhost:8080/"
        },
        "id": "cIsH-Fma82WO",
        "outputId": "375f07ef-0914-4c06-e04d-941b48ac1d87"
      },
      "execution_count": 87,
      "outputs": [
        {
          "output_type": "stream",
          "name": "stdout",
          "text": [
            "the result is out of range\n"
          ]
        }
      ]
    },
    {
      "cell_type": "markdown",
      "source": [
        "### Assertion Error"
      ],
      "metadata": {
        "id": "AbNGzqjOFMAN"
      }
    },
    {
      "cell_type": "code",
      "source": [
        "num1 = 3\n",
        "num2 = 4\n",
        "\n",
        "try:\n",
        "  assert num1==num2\n",
        "except AssertionError:\n",
        "  print(\"The condition is False\")"
      ],
      "metadata": {
        "colab": {
          "base_uri": "https://localhost:8080/"
        },
        "id": "7BPpXf37FT8W",
        "outputId": "04b36fb0-1b3b-497c-e398-5656498f60c3"
      },
      "execution_count": 88,
      "outputs": [
        {
          "output_type": "stream",
          "name": "stdout",
          "text": [
            "The condition is False\n"
          ]
        }
      ]
    },
    {
      "cell_type": "markdown",
      "source": [
        "### Name Error"
      ],
      "metadata": {
        "id": "eXIPbEXMF6Yn"
      }
    },
    {
      "cell_type": "code",
      "source": [
        "try:\n",
        "  marks = total_marks\n",
        "except NameError as ne:\n",
        "  print(ne)"
      ],
      "metadata": {
        "colab": {
          "base_uri": "https://localhost:8080/"
        },
        "id": "zhPEVlV0F-kc",
        "outputId": "41112e83-6fc6-4bcf-a345-35a99fba4d47"
      },
      "execution_count": 89,
      "outputs": [
        {
          "output_type": "stream",
          "name": "stdout",
          "text": [
            "name 'total_marks' is not defined\n"
          ]
        }
      ]
    },
    {
      "cell_type": "markdown",
      "source": [
        "### Import Error"
      ],
      "metadata": {
        "id": "MjWrbUf0GIQq"
      }
    },
    {
      "cell_type": "code",
      "source": [
        "try:\n",
        "  import matplot\n",
        "except ModuleNotFoundError as e:\n",
        "  print(e)"
      ],
      "metadata": {
        "colab": {
          "base_uri": "https://localhost:8080/"
        },
        "id": "eda1IeK5GQKK",
        "outputId": "d6016854-5586-4df0-fd5b-df228df5193a"
      },
      "execution_count": 90,
      "outputs": [
        {
          "output_type": "stream",
          "name": "stdout",
          "text": [
            "No module named 'matplot'\n"
          ]
        }
      ]
    },
    {
      "cell_type": "markdown",
      "source": [
        "### Attribute Error"
      ],
      "metadata": {
        "id": "VdWbmPzdIKaK"
      }
    },
    {
      "cell_type": "code",
      "source": [
        "class Student:\n",
        "  __uniqueid = 1001\n",
        "  def get_details(self):\n",
        "    pass\n",
        "\n",
        "try:\n",
        "  student1 = Student()\n",
        "  id = student1.__uniqueid\n",
        "except AttributeError as ae:\n",
        "  print(ae)\n",
        "else:\n",
        "  print(id)"
      ],
      "metadata": {
        "colab": {
          "base_uri": "https://localhost:8080/"
        },
        "id": "_XjXthCSIMb-",
        "outputId": "f0966d90-30bc-4303-94aa-21d35d3677fe"
      },
      "execution_count": 91,
      "outputs": [
        {
          "output_type": "stream",
          "name": "stdout",
          "text": [
            "'Student' object has no attribute '__uniqueid'\n"
          ]
        }
      ]
    },
    {
      "cell_type": "markdown",
      "source": [
        "### Value Error"
      ],
      "metadata": {
        "id": "k9GL0_rQJvyg"
      }
    },
    {
      "cell_type": "code",
      "source": [
        "roll_no = \"three\"\n",
        "\n",
        "try:\n",
        "  rollno = int(roll_no)\n",
        "  print(rollno)\n",
        "except ValueError:\n",
        "  print(\"ValueError: could not convert string to int\")\n"
      ],
      "metadata": {
        "colab": {
          "base_uri": "https://localhost:8080/"
        },
        "id": "L8GwdbpqJAkm",
        "outputId": "0eb17ced-65a9-49bb-bab6-0b2952b202c2"
      },
      "execution_count": 92,
      "outputs": [
        {
          "output_type": "stream",
          "name": "stdout",
          "text": [
            "ValueError: could not convert string to int\n"
          ]
        }
      ]
    },
    {
      "cell_type": "markdown",
      "source": [
        "### Lookup Error"
      ],
      "metadata": {
        "id": "AIxLTDxLN-SC"
      }
    },
    {
      "cell_type": "code",
      "source": [
        "# Index Error -> index of list does not exist\n",
        "fruits = [\"apple\", \"banana\", \"cherry\"]\n",
        "\n",
        "try:\n",
        "  fruit = fruits[4]\n",
        "except IndexError:\n",
        "  print(\"list index out of range\")\n",
        "finally:\n",
        "  print(\"Let's eat fuits!\")"
      ],
      "metadata": {
        "colab": {
          "base_uri": "https://localhost:8080/"
        },
        "id": "-9Jvd8CINIsO",
        "outputId": "e00271f3-e533-4a05-df27-b27f53367d8b"
      },
      "execution_count": 93,
      "outputs": [
        {
          "output_type": "stream",
          "name": "stdout",
          "text": [
            "list index out of range\n",
            "Let's eat fuits!\n"
          ]
        }
      ]
    },
    {
      "cell_type": "code",
      "source": [
        "# Key Error -> key in dictionary does not exist\n",
        "student1 = {\n",
        "    \"name\" : \"Riya\",\n",
        "    \"reg_no\":\"PCE19CS143\",\n",
        "    \"batch\" : \"2023\"\n",
        "    }\n",
        "try:\n",
        "  roll_no = student1[\"roll_no\"]\n",
        "except KeyError:\n",
        "  print(\"The given key does not exist in this dictionary\")\n"
      ],
      "metadata": {
        "colab": {
          "base_uri": "https://localhost:8080/"
        },
        "id": "b4w9qul5OUib",
        "outputId": "7ba66710-51a6-483f-b6bd-f15b7a7ceeec"
      },
      "execution_count": 94,
      "outputs": [
        {
          "output_type": "stream",
          "name": "stdout",
          "text": [
            "The given key does not exist in this dictionary\n"
          ]
        }
      ]
    },
    {
      "cell_type": "code",
      "source": [],
      "metadata": {
        "id": "w3RMnvGXRKBa"
      },
      "execution_count": 94,
      "outputs": []
    }
  ]
}