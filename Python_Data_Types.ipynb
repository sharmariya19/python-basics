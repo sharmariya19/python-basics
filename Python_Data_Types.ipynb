{
  "nbformat": 4,
  "nbformat_minor": 0,
  "metadata": {
    "colab": {
      "provenance": []
    },
    "kernelspec": {
      "name": "python3",
      "display_name": "Python 3"
    },
    "language_info": {
      "name": "python"
    }
  },
  "cells": [
    {
      "cell_type": "markdown",
      "source": [
        "## Numeric Data Type"
      ],
      "metadata": {
        "id": "RaiAb2YqrvYG"
      }
    },
    {
      "cell_type": "code",
      "source": [
        "total_marks = 10\n",
        "obtained_marks = 7.5\n",
        "\n",
        "complex_num = 3+2j\n",
        "\n",
        "\n",
        "print(type(total_marks))\n",
        "print(type(obtained_marks))\n",
        "print(type(complex_num))\n",
        "\n",
        "total_marks = float(total_marks)\n",
        "print(type(total_marks))\n",
        "total_marks = complex(total_marks)\n",
        "print(type(total_marks))\n",
        "\n",
        "#can't convert complex to int\n",
        "#complex_num = int(complex_num) "
      ],
      "metadata": {
        "colab": {
          "base_uri": "https://localhost:8080/"
        },
        "id": "vMvH-stoohi4",
        "outputId": "65511e14-4331-414b-dc5a-a7ce39cc75bf"
      },
      "execution_count": 129,
      "outputs": [
        {
          "output_type": "stream",
          "name": "stdout",
          "text": [
            "<class 'int'>\n",
            "<class 'float'>\n",
            "<class 'complex'>\n",
            "<class 'float'>\n",
            "<class 'complex'>\n"
          ]
        }
      ]
    },
    {
      "cell_type": "markdown",
      "source": [
        "## Boolean Data Type"
      ],
      "metadata": {
        "id": "hvVKnlpF5l5u"
      }
    },
    {
      "cell_type": "code",
      "source": [
        "print(type(True))\n",
        "print(True or False)\n",
        "print(True and False)\n",
        "\n",
        "print('a'=='b')\n",
        "print(3>=2)"
      ],
      "metadata": {
        "colab": {
          "base_uri": "https://localhost:8080/"
        },
        "id": "bpxet4zorXEj",
        "outputId": "19a91651-f9f2-43a8-94a5-f41cf17619ad"
      },
      "execution_count": 130,
      "outputs": [
        {
          "output_type": "stream",
          "name": "stdout",
          "text": [
            "<class 'bool'>\n",
            "True\n",
            "False\n",
            "False\n",
            "True\n"
          ]
        }
      ]
    },
    {
      "cell_type": "markdown",
      "source": [
        "## String Data Type"
      ],
      "metadata": {
        "id": "Mu42HyIQrqbc"
      }
    },
    {
      "cell_type": "code",
      "source": [
        "name = \"riya\"\n",
        "roll_no = 3\n",
        "address = '''IHS Colony\n",
        "Sawai Madhopur\n",
        "Rajasthan(322001)'''\n",
        "\n",
        "print(type(name))\n",
        "print(type(roll_no))\n",
        "\n",
        "print(\"Hello \" + name + \" Your roll no. is\" , roll_no)\n",
        "print(\"address: \" + address)\n",
        "roll_no = str(roll_no)\n",
        "print(type(roll_no))\n",
        "print(\"Is your roll no. \" + roll_no + \"?\")\n"
      ],
      "metadata": {
        "colab": {
          "base_uri": "https://localhost:8080/"
        },
        "id": "fNvy1QC1pXeI",
        "outputId": "6d1bd4f6-771b-4477-fb82-0141c18720dc"
      },
      "execution_count": 131,
      "outputs": [
        {
          "output_type": "stream",
          "name": "stdout",
          "text": [
            "<class 'str'>\n",
            "<class 'int'>\n",
            "Hello riya Your roll no. is 3\n",
            "address: IHS Colony\n",
            "Sawai Madhopur\n",
            "Rajasthan(322001)\n",
            "<class 'str'>\n",
            "Is your roll no. 3?\n"
          ]
        }
      ]
    },
    {
      "cell_type": "code",
      "source": [
        "# string methods\n",
        "print(name.capitalize())\n",
        "\n",
        "print(\"No. of time 'o' occur in address:\", address.count('o'))\n",
        "\n",
        "print(address[:10])\n",
        "print(address.split(\"\\n\" )) # split() -> convert the string to list\n",
        "\n",
        "print(\"Rajastan is found at index: \", address.find(\"Rajasthan\"))\n",
        "print(\"HEy!\".lower())\n",
        "print(\"Bye!\".upper())\n",
        "\n",
        "print(\"GO\".replace(\"G\", \"N\"))"
      ],
      "metadata": {
        "colab": {
          "base_uri": "https://localhost:8080/"
        },
        "id": "OeQhRAfgt6Eo",
        "outputId": "6a1bee05-c00e-4237-e57f-68e1b87be124"
      },
      "execution_count": 132,
      "outputs": [
        {
          "output_type": "stream",
          "name": "stdout",
          "text": [
            "Riya\n",
            "No. of time 'o' occur in address: 3\n",
            "IHS Colony\n",
            "['IHS Colony', 'Sawai Madhopur', 'Rajasthan(322001)']\n",
            "Rajastan is found at index:  26\n",
            "hey!\n",
            "BYE!\n",
            "NO\n"
          ]
        }
      ]
    },
    {
      "cell_type": "markdown",
      "source": [
        "### List"
      ],
      "metadata": {
        "id": "sHLJMy90tXFE"
      }
    },
    {
      "cell_type": "code",
      "source": [
        "fruits = [\"banana\", \"apple\", \"cherry\"]\n",
        "fruits.append(\"guava\")\n",
        "\n",
        "print(fruits)\n",
        "print(\"no. of fruits: \", len(fruits))\n",
        "\n",
        "for fruit in fruits:\n",
        "  if fruit.startswith('g'):\n",
        "    fruits.remove(fruit)\n",
        "\n",
        "print(fruits)\n",
        "print(\"no. of fruits: \", len(fruits))\n",
        "\n",
        "print(fruits[-3:-1])\n",
        "fruits.insert(2,\"pineapple\")\n",
        "print(fruits)\n",
        "\n",
        "new_fruits = [fruit for fruit in fruits if 'a' in fruit]\n",
        "print(new_fruits)\n",
        "new_fruits.sort()\n",
        "str_ = \" \".join(new_fruits) # join() -> convert list to string\n",
        "\n",
        "print(str_)"
      ],
      "metadata": {
        "colab": {
          "base_uri": "https://localhost:8080/"
        },
        "id": "dUqV5BWLskz0",
        "outputId": "235bea84-d9fa-417c-ca02-e7c39a9df28e"
      },
      "execution_count": 133,
      "outputs": [
        {
          "output_type": "stream",
          "name": "stdout",
          "text": [
            "['banana', 'apple', 'cherry', 'guava']\n",
            "no. of fruits:  4\n",
            "['banana', 'apple', 'cherry']\n",
            "no. of fruits:  3\n",
            "['banana', 'apple']\n",
            "['banana', 'apple', 'pineapple', 'cherry']\n",
            "['banana', 'apple', 'pineapple']\n",
            "apple banana pineapple\n"
          ]
        }
      ]
    },
    {
      "cell_type": "code",
      "source": [
        "nums = [1,6,9,3,\"a\",\"c\"]\n",
        "# reverse the list\n",
        "nums.reverse()\n",
        "print(nums)"
      ],
      "metadata": {
        "colab": {
          "base_uri": "https://localhost:8080/"
        },
        "id": "NNgWV8RKCleh",
        "outputId": "65fabc96-791b-47b8-d2e6-f602ece3437e"
      },
      "execution_count": 134,
      "outputs": [
        {
          "output_type": "stream",
          "name": "stdout",
          "text": [
            "['c', 'a', 3, 9, 6, 1]\n"
          ]
        }
      ]
    },
    {
      "cell_type": "markdown",
      "source": [
        "## Tuple"
      ],
      "metadata": {
        "id": "M8yNXg7f3hRc"
      }
    },
    {
      "cell_type": "code",
      "source": [
        "cars = ('audi',)\n",
        "print(type(cars))\n",
        "new_cars = ('audi', 'mercedes', 'ferrari','bmw')\n",
        "cars += new_cars\n",
        "prices = (12000,13000,14000,12500)\n",
        "\n",
        "car_price = zip(cars,prices)\n",
        "print(\"cars with prices: \",tuple(car_price))\n",
        "print(cars[:])\n",
        "print(cars.count('audi'))\n",
        "print(cars.index('bmw'))\n",
        "\n",
        "cars_lst = list(cars)\n",
        "cars_lst.append('alto')\n",
        "\n",
        "print(tuple(cars_lst))"
      ],
      "metadata": {
        "colab": {
          "base_uri": "https://localhost:8080/"
        },
        "id": "S6bVW5o0ympc",
        "outputId": "4daaab51-483f-44e6-9d69-10da2a41aa66"
      },
      "execution_count": 135,
      "outputs": [
        {
          "output_type": "stream",
          "name": "stdout",
          "text": [
            "<class 'tuple'>\n",
            "cars with prices:  (('audi', 12000), ('audi', 13000), ('mercedes', 14000), ('ferrari', 12500))\n",
            "('audi', 'audi', 'mercedes', 'ferrari', 'bmw')\n",
            "2\n",
            "4\n",
            "('audi', 'audi', 'mercedes', 'ferrari', 'bmw', 'alto')\n"
          ]
        }
      ]
    },
    {
      "cell_type": "code",
      "source": [
        "(car1, *other_cars) = cars\n",
        "print(car1)\n",
        "print(other_cars)"
      ],
      "metadata": {
        "colab": {
          "base_uri": "https://localhost:8080/"
        },
        "id": "jcLCTkaqMCpO",
        "outputId": "88213e8b-6429-429d-9a03-cde66f8dd36d"
      },
      "execution_count": 136,
      "outputs": [
        {
          "output_type": "stream",
          "name": "stdout",
          "text": [
            "audi\n",
            "['audi', 'mercedes', 'ferrari', 'bmw']\n"
          ]
        }
      ]
    },
    {
      "cell_type": "markdown",
      "source": [
        "## Sets"
      ],
      "metadata": {
        "id": "ZsVI95hy6Duz"
      }
    },
    {
      "cell_type": "code",
      "source": [
        "nums = {1,2,3,4,1,2,3,7,8,9,4}\n",
        "\n",
        "nums.add(10)\n",
        "print(nums, type(nums))\n",
        "print(\"Length of set: \", len(nums))\n",
        "nums.discard(9)\n",
        "\n",
        "# frozensets are immutable sets\n",
        "fset = frozenset(nums)\n",
        "print(fset)\n",
        "# .add() not allowed in frozenset\n",
        "# fset.add(11)"
      ],
      "metadata": {
        "colab": {
          "base_uri": "https://localhost:8080/"
        },
        "id": "SPqCCYoI3x8o",
        "outputId": "b31f0050-14f6-4866-bb0c-d143dae7b5e7"
      },
      "execution_count": 137,
      "outputs": [
        {
          "output_type": "stream",
          "name": "stdout",
          "text": [
            "{1, 2, 3, 4, 7, 8, 9, 10} <class 'set'>\n",
            "Length of set:  8\n",
            "frozenset({1, 2, 3, 4, 7, 8, 10})\n"
          ]
        }
      ]
    },
    {
      "cell_type": "code",
      "source": [
        "nums2 = {4,9,10,20}\n",
        "nums3 = nums.union(nums2)    # all elements either in nums or nums2\n",
        "\n",
        "nums4 = nums.intersection(nums2)   # common elements of nums and nums2\n",
        "\n",
        "print(nums3)\n",
        "print(nums4)"
      ],
      "metadata": {
        "colab": {
          "base_uri": "https://localhost:8080/"
        },
        "id": "vQZ3zh1VNPAN",
        "outputId": "60ab475b-9f2d-4b9f-9623-92b6b00d56f1"
      },
      "execution_count": 138,
      "outputs": [
        {
          "output_type": "stream",
          "name": "stdout",
          "text": [
            "{1, 2, 3, 4, 7, 8, 9, 10, 20}\n",
            "{10, 4}\n"
          ]
        }
      ]
    },
    {
      "cell_type": "markdown",
      "source": [
        "## Dictionary"
      ],
      "metadata": {
        "id": "6cnkhNh08Lzq"
      }
    },
    {
      "cell_type": "code",
      "source": [
        "students = {\n",
        "  \"student1\" : {\n",
        "    \"name\" : \"Riya\",\n",
        "    \"year\" : 2023\n",
        "  },\n",
        "  \"student2\" : {\n",
        "    \"name\" : \"Jo\",\n",
        "    \"year\" : 2024\n",
        "  },\n",
        "  \"student3\" : {\n",
        "    \"name\" : \"Monica\",\n",
        "    \"year\" : 2022\n",
        "  }\n",
        "}\n",
        "\n",
        "print(\"type of students is: {} and length is:{} \".format(type(students), len(students)))\n",
        "print(students.get('student1'))\n",
        "print(students['student2']['name'])\n",
        "print(students.keys())\n",
        "students.update({\"student4\":{\"name\": \"Rishi\",\"year\":2023}})\n",
        "\n",
        "students.pop('student3')\n",
        "print(students)"
      ],
      "metadata": {
        "colab": {
          "base_uri": "https://localhost:8080/"
        },
        "id": "bS1EgFmt6LRJ",
        "outputId": "1c1ac8fa-ed53-42fa-8a3d-6f5ae43e356c"
      },
      "execution_count": 139,
      "outputs": [
        {
          "output_type": "stream",
          "name": "stdout",
          "text": [
            "type of students is: <class 'dict'> and length is:3 \n",
            "{'name': 'Riya', 'year': 2023}\n",
            "Jo\n",
            "dict_keys(['student1', 'student2', 'student3'])\n",
            "{'student1': {'name': 'Riya', 'year': 2023}, 'student2': {'name': 'Jo', 'year': 2024}, 'student4': {'name': 'Rishi', 'year': 2023}}\n"
          ]
        }
      ]
    },
    {
      "cell_type": "code",
      "source": [
        "students.clear()\n",
        "print(students)"
      ],
      "metadata": {
        "colab": {
          "base_uri": "https://localhost:8080/"
        },
        "id": "qmnSn1xW8925",
        "outputId": "630f82d4-0ce5-4acd-a82d-5a2b25eee62e"
      },
      "execution_count": 140,
      "outputs": [
        {
          "output_type": "stream",
          "name": "stdout",
          "text": [
            "{}\n"
          ]
        }
      ]
    },
    {
      "cell_type": "code",
      "source": [],
      "metadata": {
        "id": "k9WTadmYN6fP"
      },
      "execution_count": 128,
      "outputs": []
    }
  ]
}