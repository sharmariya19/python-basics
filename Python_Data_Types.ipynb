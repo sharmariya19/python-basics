{
  "nbformat": 4,
  "nbformat_minor": 0,
  "metadata": {
    "colab": {
      "provenance": []
    },
    "kernelspec": {
      "name": "python3",
      "display_name": "Python 3"
    },
    "language_info": {
      "name": "python"
    }
  },
  "cells": [
    {
      "cell_type": "markdown",
      "source": [
        "## Numeric Data Type"
      ],
      "metadata": {
        "id": "RaiAb2YqrvYG"
      }
    },
    {
      "cell_type": "code",
      "source": [
        "total_marks = 10\n",
        "obtained_marks = 7.5\n",
        "\n",
        "complex_num = 3+2j\n",
        "\n",
        "\n",
        "print(type(total_marks))\n",
        "print(type(obtained_marks))\n",
        "print(type(complex_num))\n",
        "\n",
        "total_marks = float(total_marks)\n",
        "print(type(total_marks))\n",
        "total_marks = complex(total_marks)\n",
        "print(type(total_marks))\n",
        "\n",
        "#can't convert complex to int\n",
        "#complex_num = int(complex_num) "
      ],
      "metadata": {
        "colab": {
          "base_uri": "https://localhost:8080/"
        },
        "id": "vMvH-stoohi4",
        "outputId": "32eb3462-d747-46c6-919d-114b32b37fb9"
      },
      "execution_count": 117,
      "outputs": [
        {
          "output_type": "stream",
          "name": "stdout",
          "text": [
            "<class 'int'>\n",
            "<class 'float'>\n",
            "<class 'complex'>\n",
            "<class 'float'>\n",
            "<class 'complex'>\n"
          ]
        }
      ]
    },
    {
      "cell_type": "markdown",
      "source": [
        "## Boolean Data Type"
      ],
      "metadata": {
        "id": "hvVKnlpF5l5u"
      }
    },
    {
      "cell_type": "code",
      "source": [
        "print(type(True))\n",
        "print(True or False)\n",
        "print(True and False)\n",
        "\n",
        "print('a'=='b')\n",
        "print(3>=2)"
      ],
      "metadata": {
        "colab": {
          "base_uri": "https://localhost:8080/"
        },
        "id": "bpxet4zorXEj",
        "outputId": "b1a1558b-9355-4aca-c40b-89649628309c"
      },
      "execution_count": 118,
      "outputs": [
        {
          "output_type": "stream",
          "name": "stdout",
          "text": [
            "<class 'bool'>\n",
            "True\n",
            "False\n",
            "False\n",
            "True\n"
          ]
        }
      ]
    },
    {
      "cell_type": "markdown",
      "source": [
        "## String Data Type"
      ],
      "metadata": {
        "id": "Mu42HyIQrqbc"
      }
    },
    {
      "cell_type": "code",
      "source": [
        "name = \"riya\"\n",
        "roll_no = 3\n",
        "address = '''IHS Colony\n",
        "Sawai Madhopur\n",
        "Rajasthan(322001)'''\n",
        "\n",
        "print(type(name))\n",
        "print(type(roll_no))\n",
        "\n",
        "print(\"Hello \" + name + \" Your roll no. is\" , roll_no)\n",
        "print(\"address: \" + address)\n",
        "roll_no = str(roll_no)\n",
        "print(type(roll_no))\n",
        "print(\"Is your roll no. \" + roll_no + \"?\")\n"
      ],
      "metadata": {
        "colab": {
          "base_uri": "https://localhost:8080/"
        },
        "id": "fNvy1QC1pXeI",
        "outputId": "4221a769-1872-4b99-9acd-5294f2a7ee87"
      },
      "execution_count": 119,
      "outputs": [
        {
          "output_type": "stream",
          "name": "stdout",
          "text": [
            "<class 'str'>\n",
            "<class 'int'>\n",
            "Hello riya Your roll no. is 3\n",
            "address: IHS Colony\n",
            "Sawai Madhopur\n",
            "Rajasthan(322001)\n",
            "<class 'str'>\n",
            "Is your roll no. 3?\n"
          ]
        }
      ]
    },
    {
      "cell_type": "code",
      "source": [
        "\n",
        "print(name.capitalize())\n",
        "\n",
        "print(\"No. of time 'o' occur in address:\", address.count('o'))\n",
        "\n",
        "print(address[:10])\n",
        "print(address.split(\"\\n\" ))\n",
        "\n",
        "print(\"Rajastan is found at index: \", address.find(\"Rajasthan\"))\n",
        "print(\"HEy!\".lower())\n",
        "print(\"Bye!\".upper())\n",
        "\n",
        "print(\"GO\".replace(\"G\", \"N\"))"
      ],
      "metadata": {
        "colab": {
          "base_uri": "https://localhost:8080/"
        },
        "id": "OeQhRAfgt6Eo",
        "outputId": "2d3198e0-26de-4bb7-ed8e-057c1e13d8aa"
      },
      "execution_count": 120,
      "outputs": [
        {
          "output_type": "stream",
          "name": "stdout",
          "text": [
            "Riya\n",
            "No. of time 'o' occur in address: 3\n",
            "IHS Colony\n",
            "['IHS Colony', 'Sawai Madhopur', 'Rajasthan(322001)']\n",
            "Rajastan is found at index:  26\n",
            "hey!\n",
            "BYE!\n",
            "NO\n"
          ]
        }
      ]
    },
    {
      "cell_type": "markdown",
      "source": [
        "### List"
      ],
      "metadata": {
        "id": "sHLJMy90tXFE"
      }
    },
    {
      "cell_type": "code",
      "source": [
        "fruits = [\"banana\", \"apple\", \"cherry\"]\n",
        "fruits.append(\"guava\")\n",
        "\n",
        "print(fruits)\n",
        "print(\"no. of fruits: \", len(fruits))\n",
        "\n",
        "for fruit in fruits:\n",
        "  if fruit.startswith('g'):\n",
        "    fruits.remove(fruit)\n",
        "\n",
        "print(fruits)\n",
        "print(\"no. of fruits: \", len(fruits))\n",
        "\n",
        "print(fruits[-3:-1])\n",
        "fruits.insert(2,\"pineapple\")\n",
        "print(fruits)\n",
        "\n",
        "new_fruits = [fruit for fruit in fruits if 'a' in fruit]\n",
        "print(new_fruits)\n",
        "new_fruits.sort()\n",
        "str_ = \" \".join(new_fruits)\n",
        "\n",
        "print(str_)"
      ],
      "metadata": {
        "colab": {
          "base_uri": "https://localhost:8080/"
        },
        "id": "dUqV5BWLskz0",
        "outputId": "cc7a8711-9404-4ff6-f40e-3ac2384dbdde"
      },
      "execution_count": 121,
      "outputs": [
        {
          "output_type": "stream",
          "name": "stdout",
          "text": [
            "['banana', 'apple', 'cherry', 'guava']\n",
            "no. of fruits:  4\n",
            "['banana', 'apple', 'cherry']\n",
            "no. of fruits:  3\n",
            "['banana', 'apple']\n",
            "['banana', 'apple', 'pineapple', 'cherry']\n",
            "['banana', 'apple', 'pineapple']\n",
            "apple banana pineapple\n"
          ]
        }
      ]
    },
    {
      "cell_type": "code",
      "source": [
        "nums = [1,6,9,3,\"a\",\"c\"]\n",
        "nums.reverse()\n",
        "print(nums)"
      ],
      "metadata": {
        "colab": {
          "base_uri": "https://localhost:8080/"
        },
        "id": "NNgWV8RKCleh",
        "outputId": "bb8c9ec9-b22f-4e96-c652-f1e5a6c0cbf3"
      },
      "execution_count": 122,
      "outputs": [
        {
          "output_type": "stream",
          "name": "stdout",
          "text": [
            "['c', 'a', 3, 9, 6, 1]\n"
          ]
        }
      ]
    },
    {
      "cell_type": "markdown",
      "source": [
        "## Tuple"
      ],
      "metadata": {
        "id": "M8yNXg7f3hRc"
      }
    },
    {
      "cell_type": "code",
      "source": [
        "cars = ('audi',)\n",
        "print(type(cars))\n",
        "new_cars = ('audi', 'mercedes', 'ferrari','bmw')\n",
        "cars += new_cars\n",
        "prices = (12000,13000,14000,12500)\n",
        "\n",
        "car_price = zip(cars,prices)\n",
        "print(\"cars with prices: \",tuple(car_price))\n",
        "print(cars[:])\n",
        "print(cars.count('audi'))\n",
        "print(cars.index('bmw'))\n",
        "\n",
        "cars_lst = list(cars)\n",
        "cars_lst.append('alto')\n",
        "\n",
        "print(tuple(cars_lst))"
      ],
      "metadata": {
        "colab": {
          "base_uri": "https://localhost:8080/"
        },
        "id": "S6bVW5o0ympc",
        "outputId": "31917f9a-8ab8-4f20-cfd2-4e0a06d6bd10"
      },
      "execution_count": 123,
      "outputs": [
        {
          "output_type": "stream",
          "name": "stdout",
          "text": [
            "<class 'tuple'>\n",
            "cars with prices:  (('audi', 12000), ('audi', 13000), ('mercedes', 14000), ('ferrari', 12500))\n",
            "('audi', 'audi', 'mercedes', 'ferrari', 'bmw')\n",
            "2\n",
            "4\n",
            "('audi', 'audi', 'mercedes', 'ferrari', 'bmw', 'alto')\n"
          ]
        }
      ]
    },
    {
      "cell_type": "code",
      "source": [
        "(car1, *other_cars) = cars\n",
        "print(car1)\n",
        "print(other_cars)"
      ],
      "metadata": {
        "colab": {
          "base_uri": "https://localhost:8080/"
        },
        "id": "jcLCTkaqMCpO",
        "outputId": "80f60b4f-a267-4e96-f6f8-66b33d4df813"
      },
      "execution_count": 124,
      "outputs": [
        {
          "output_type": "stream",
          "name": "stdout",
          "text": [
            "audi\n",
            "['audi', 'mercedes', 'ferrari', 'bmw']\n"
          ]
        }
      ]
    },
    {
      "cell_type": "markdown",
      "source": [
        "## Sets"
      ],
      "metadata": {
        "id": "ZsVI95hy6Duz"
      }
    },
    {
      "cell_type": "code",
      "source": [
        "nums = {1,2,3,4,1,2,3,7,8,9,4}\n",
        "\n",
        "nums.add(10)\n",
        "print(nums, type(nums))\n",
        "print(\"Length of set: \", len(nums))\n",
        "nums.discard(9)\n",
        "fset = frozenset(nums)\n",
        "print(fset)\n",
        "# .add() not allowed in frozenset\n",
        "# fset.add(11)"
      ],
      "metadata": {
        "colab": {
          "base_uri": "https://localhost:8080/"
        },
        "id": "SPqCCYoI3x8o",
        "outputId": "81273fcb-af46-4545-865b-953732f4e98a"
      },
      "execution_count": 125,
      "outputs": [
        {
          "output_type": "stream",
          "name": "stdout",
          "text": [
            "{1, 2, 3, 4, 7, 8, 9, 10} <class 'set'>\n",
            "Length of set:  8\n",
            "frozenset({1, 2, 3, 4, 7, 8, 10})\n"
          ]
        }
      ]
    },
    {
      "cell_type": "code",
      "source": [
        "nums2 = {4,9,10,20}\n",
        "nums3 = nums.union(nums2)\n",
        "\n",
        "nums4 = nums.intersection(nums2)\n",
        "\n",
        "print(nums3)\n",
        "print(nums4)"
      ],
      "metadata": {
        "colab": {
          "base_uri": "https://localhost:8080/"
        },
        "id": "vQZ3zh1VNPAN",
        "outputId": "0a6fc8be-44a7-49b2-8935-5b60d16ad30a"
      },
      "execution_count": 126,
      "outputs": [
        {
          "output_type": "stream",
          "name": "stdout",
          "text": [
            "{1, 2, 3, 4, 7, 8, 9, 10, 20}\n",
            "{10, 4}\n"
          ]
        }
      ]
    },
    {
      "cell_type": "markdown",
      "source": [
        "## Dictionary"
      ],
      "metadata": {
        "id": "6cnkhNh08Lzq"
      }
    },
    {
      "cell_type": "code",
      "source": [
        "students = {\n",
        "  \"student1\" : {\n",
        "    \"name\" : \"Riya\",\n",
        "    \"year\" : 2023\n",
        "  },\n",
        "  \"student2\" : {\n",
        "    \"name\" : \"Jo\",\n",
        "    \"year\" : 2024\n",
        "  },\n",
        "  \"student3\" : {\n",
        "    \"name\" : \"Monica\",\n",
        "    \"year\" : 2022\n",
        "  }\n",
        "}\n",
        "\n",
        "print(\"type of students is: {} and length is:{} \".format(type(students), len(students)))\n",
        "print(students.get('student1'))\n",
        "print(students['student2']['name'])\n",
        "print(students.keys())\n",
        "students.update({\"student4\":{\"name\": \"Rishi\",\"year\":2023}})\n",
        "\n",
        "students.pop('student3')\n",
        "print(students)"
      ],
      "metadata": {
        "colab": {
          "base_uri": "https://localhost:8080/"
        },
        "id": "bS1EgFmt6LRJ",
        "outputId": "c6928e10-24c4-4bee-9d80-42cfbeed45e8"
      },
      "execution_count": 127,
      "outputs": [
        {
          "output_type": "stream",
          "name": "stdout",
          "text": [
            "type of students is: <class 'dict'> and length is:3 \n",
            "{'name': 'Riya', 'year': 2023}\n",
            "Jo\n",
            "dict_keys(['student1', 'student2', 'student3'])\n",
            "{'student1': {'name': 'Riya', 'year': 2023}, 'student2': {'name': 'Jo', 'year': 2024}, 'student4': {'name': 'Rishi', 'year': 2023}}\n"
          ]
        }
      ]
    },
    {
      "cell_type": "code",
      "source": [
        "students.clear()\n",
        "print(students)"
      ],
      "metadata": {
        "colab": {
          "base_uri": "https://localhost:8080/"
        },
        "id": "qmnSn1xW8925",
        "outputId": "26c9ec5b-0428-4262-cf1d-03fbfc1a0cc0"
      },
      "execution_count": 128,
      "outputs": [
        {
          "output_type": "stream",
          "name": "stdout",
          "text": [
            "{}\n"
          ]
        }
      ]
    },
    {
      "cell_type": "code",
      "source": [],
      "metadata": {
        "id": "k9WTadmYN6fP"
      },
      "execution_count": 128,
      "outputs": []
    }
  ]
}