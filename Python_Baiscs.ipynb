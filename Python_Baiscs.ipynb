{
  "nbformat": 4,
  "nbformat_minor": 0,
  "metadata": {
    "colab": {
      "provenance": [],
      "collapsed_sections": [],
      "authorship_tag": "ABX9TyNTXEtqpTiMGP7G9W/EpdR2",
      "include_colab_link": true
    },
    "kernelspec": {
      "name": "python3",
      "display_name": "Python 3"
    },
    "language_info": {
      "name": "python"
    }
  },
  "cells": [
    {
      "cell_type": "markdown",
      "metadata": {
        "id": "view-in-github",
        "colab_type": "text"
      },
      "source": [
        "<a href=\"https://colab.research.google.com/github/sharmariya19/python-basics/blob/main/Python_Baiscs.ipynb\" target=\"_parent\"><img src=\"https://colab.research.google.com/assets/colab-badge.svg\" alt=\"Open In Colab\"/></a>"
      ]
    },
    {
      "cell_type": "code",
      "execution_count": 166,
      "metadata": {
        "colab": {
          "base_uri": "https://localhost:8080/"
        },
        "id": "UYUBYhWmi5Gj",
        "outputId": "064a554f-4a63-4de7-9f20-ca18316e3928"
      },
      "outputs": [
        {
          "output_type": "stream",
          "name": "stdout",
          "text": [
            "Hello, World!\n"
          ]
        }
      ],
      "source": [
        "print(\"Hello, World!\")"
      ]
    },
    {
      "cell_type": "code",
      "source": [
        "# Variable creation\n",
        "name = \"Riya\"\n",
        "age = 21\n",
        "is_student = True\n",
        "\n",
        "\n",
        "print(name)\n",
        "print(type(name))   # data type of variable\n",
        "print(age, type(age))\n",
        "print(is_student , type(is_student))\n",
        "\n",
        "# Type Casting\n",
        "a = 3\n",
        "b = float(a)\n",
        "c = 3.2\n",
        "d = int(c)\n",
        "\n",
        "print(\"a = \",a, type(a))\n",
        "print(\"b = \", b, type(b))\n",
        "print(\"c = \",c, type(c))\n",
        "print(\"d = \",d, type(d))\n",
        "\n",
        "x,y,z = 1,2,3\n",
        "a=b=c=10   #one value to multiple variables\n",
        "print(\"a= {}, b= {}, c= {}, x={}, y={}, z={}\".format(a,b,c,x,y,z))"
      ],
      "metadata": {
        "colab": {
          "base_uri": "https://localhost:8080/"
        },
        "id": "y4r6kqTqjK4d",
        "outputId": "aadbc00f-30bf-4cb1-c13e-a683dc79b666"
      },
      "execution_count": 167,
      "outputs": [
        {
          "output_type": "stream",
          "name": "stdout",
          "text": [
            "Riya\n",
            "<class 'str'>\n",
            "21 <class 'int'>\n",
            "True <class 'bool'>\n",
            "a =  3 <class 'int'>\n",
            "b =  3.0 <class 'float'>\n",
            "c =  3.2 <class 'float'>\n",
            "d =  3 <class 'int'>\n",
            "a= 10, b= 10, c= 10, x=1, y=2, z=3\n"
          ]
        }
      ]
    },
    {
      "cell_type": "code",
      "source": [
        "# Strings\n",
        "\n",
        "for x in name:\n",
        "  print(x)\n",
        "\n",
        "\n",
        "greeting = \"Good Morning\"\n",
        "\n",
        "print(greeting[:4])\n",
        "print(greeting[5:])\n",
        "print(\"length:\", len(greeting))\n",
        "\n",
        "if \"R\" in name:\n",
        "  print(\"R is present in {name_}\".format(name_ = name.upper()))\n",
        "else:\n",
        "  print(\"R is not present in {name_}\".format(name_ = name.upper()))\n",
        "\n",
        "\n",
        "print(\"o occur in Hello at: \", \"Hello\".index('o'))"
      ],
      "metadata": {
        "colab": {
          "base_uri": "https://localhost:8080/"
        },
        "id": "UwrejYZRjsLe",
        "outputId": "e84e6f3f-56ad-4d44-dfe3-6eedb875b80d"
      },
      "execution_count": 168,
      "outputs": [
        {
          "output_type": "stream",
          "name": "stdout",
          "text": [
            "R\n",
            "i\n",
            "y\n",
            "a\n",
            "Good\n",
            "Morning\n",
            "length: 12\n",
            "R is present in RIYA\n",
            "o occur in Hello at:  4\n"
          ]
        }
      ]
    },
    {
      "cell_type": "code",
      "source": [
        "\n",
        "\n",
        "def even_odd(num):\n",
        "  if num%2 == 0:\n",
        "      return(\"even\")\n",
        "  else:\n",
        "      return(\"odd\")\n",
        "\n",
        "def int_val(val):\n",
        "  if val>0:\n",
        "    return(\"Positive \"+ even_odd(val))   \n",
        "  elif val<0:\n",
        "    return(\"Negative \"+ even_odd(val))\n",
        "  else:\n",
        "    return(\"Zero\")\n",
        "\n",
        "\n",
        "print(\"3 is : \" + int_val(3))\n",
        "print(\"10 is : \" + int_val(10))"
      ],
      "metadata": {
        "colab": {
          "base_uri": "https://localhost:8080/"
        },
        "id": "dlL98WrWj7ya",
        "outputId": "9ab1169d-d7eb-41ff-f235-b4839f43d1e4"
      },
      "execution_count": 169,
      "outputs": [
        {
          "output_type": "stream",
          "name": "stdout",
          "text": [
            "3 is : Positive odd\n",
            "10 is : Positive even\n"
          ]
        }
      ]
    },
    {
      "cell_type": "code",
      "source": [
        "# arbitrary arguments\n",
        "def sum(no, *value):\n",
        "  sum=0\n",
        "  for i in value:\n",
        "    sum+=i\n",
        "  else:\n",
        "    return sum\n",
        "\n",
        "ans = sum(5,1,2,3,4,5)\n",
        "print(ans)"
      ],
      "metadata": {
        "colab": {
          "base_uri": "https://localhost:8080/"
        },
        "id": "Vpa6eLaaETPE",
        "outputId": "226398af-2999-43cb-cec3-99379a7fead1"
      },
      "execution_count": 170,
      "outputs": [
        {
          "output_type": "stream",
          "name": "stdout",
          "text": [
            "15\n"
          ]
        }
      ]
    },
    {
      "cell_type": "code",
      "source": [
        "# lambda function\n",
        "sum = lambda num1, num2 : num1 + num2\n",
        "print(sum(500, 600))"
      ],
      "metadata": {
        "colab": {
          "base_uri": "https://localhost:8080/"
        },
        "id": "LUzqOBjzFfGB",
        "outputId": "a1d7a8c4-1531-4aca-d20a-f941e23fa4d9"
      },
      "execution_count": 171,
      "outputs": [
        {
          "output_type": "stream",
          "name": "stdout",
          "text": [
            "1100\n"
          ]
        }
      ]
    },
    {
      "cell_type": "code",
      "source": [
        "# List\n",
        "names = ['riya', 'khushi','ananya']\n",
        "for name in names:\n",
        "  if 'a' in name:\n",
        "    print(name)\n",
        "\n",
        "print(names[0])\n",
        "names.append('chhavi')\n",
        "print(names)\n",
        "print(len(names))\n",
        "print(names[:2])\n",
        "names.remove('riya')\n",
        "print(names)\n",
        "names.sort()\n",
        "print(names)"
      ],
      "metadata": {
        "colab": {
          "base_uri": "https://localhost:8080/"
        },
        "id": "Jw8_9RhSs-jh",
        "outputId": "3ebe585b-b4ad-42cc-cf27-9d4158e163c9"
      },
      "execution_count": 172,
      "outputs": [
        {
          "output_type": "stream",
          "name": "stdout",
          "text": [
            "riya\n",
            "ananya\n",
            "riya\n",
            "['riya', 'khushi', 'ananya', 'chhavi']\n",
            "4\n",
            "['riya', 'khushi']\n",
            "['khushi', 'ananya', 'chhavi']\n",
            "['ananya', 'chhavi', 'khushi']\n"
          ]
        }
      ]
    },
    {
      "cell_type": "code",
      "source": [
        "#map function\n",
        "lst1 = [1,2,3,4,5,6]\n",
        "\n",
        "def lst_fun(n):\n",
        "  return n*2\n",
        "\n",
        "res = map(lst_fun, lst1)\n",
        "\n",
        "print(list(res))"
      ],
      "metadata": {
        "colab": {
          "base_uri": "https://localhost:8080/"
        },
        "id": "ZCVwxn87GktE",
        "outputId": "522ffec8-9f71-439c-a07a-26034c411682"
      },
      "execution_count": 173,
      "outputs": [
        {
          "output_type": "stream",
          "name": "stdout",
          "text": [
            "[2, 4, 6, 8, 10, 12]\n"
          ]
        }
      ]
    },
    {
      "cell_type": "code",
      "source": [
        "#tuple\n",
        "nametuple = tuple(names)\n",
        "print(nametuple)\n",
        "print(\"lenght: \", len(nametuple))\n",
        "print(nametuple[0])\n",
        "# mytuple[0] = \"tanu\" # tuple value can't be changed or removed"
      ],
      "metadata": {
        "colab": {
          "base_uri": "https://localhost:8080/"
        },
        "id": "jShhd7i4uMN2",
        "outputId": "e784b5b2-681c-4bc7-de6c-2a467e20419b"
      },
      "execution_count": 174,
      "outputs": [
        {
          "output_type": "stream",
          "name": "stdout",
          "text": [
            "('ananya', 'chhavi', 'khushi')\n",
            "lenght:  3\n",
            "ananya\n"
          ]
        }
      ]
    },
    {
      "cell_type": "code",
      "source": [
        "#sets\n",
        "\n",
        "myset = {1,2,3,4,1,2}\n",
        "print(myset)\n",
        "#print(myset[0])  # indexing not allowed in set"
      ],
      "metadata": {
        "colab": {
          "base_uri": "https://localhost:8080/"
        },
        "id": "STbnn03puWfX",
        "outputId": "2c612245-360e-4ab6-92a2-fb38d766b803"
      },
      "execution_count": 175,
      "outputs": [
        {
          "output_type": "stream",
          "name": "stdout",
          "text": [
            "{1, 2, 3, 4}\n"
          ]
        }
      ]
    },
    {
      "cell_type": "code",
      "source": [
        "# dictionary\n",
        "\n",
        "detail = {\n",
        "    \"name\":\"riya\",\n",
        "    \"year\":4,\n",
        "    \"sem\":7\n",
        "}\n",
        "print(detail[\"name\"])\n",
        "detail[\"name\"] = \"khushi\"\n",
        "print(detail)\n",
        "detail[\"marks\"] = 60\n",
        "print(detail)"
      ],
      "metadata": {
        "colab": {
          "base_uri": "https://localhost:8080/"
        },
        "id": "UDewEHclutGE",
        "outputId": "d2d14c18-1aad-4317-8909-2039ca9a5bba"
      },
      "execution_count": 176,
      "outputs": [
        {
          "output_type": "stream",
          "name": "stdout",
          "text": [
            "riya\n",
            "{'name': 'khushi', 'year': 4, 'sem': 7}\n",
            "{'name': 'khushi', 'year': 4, 'sem': 7, 'marks': 60}\n"
          ]
        }
      ]
    },
    {
      "cell_type": "code",
      "source": [
        "# Classes and Objects\n",
        "\n",
        "class Calculate:\n",
        "  __num = 20\n",
        "  _num1 = 0\n",
        "  _num2 = 0\n",
        "  def __init__(self,num_1,num_2):    # class constructor\n",
        "    self._num1 = num_1\n",
        "    self._num2 = num_2\n",
        "  \n",
        "  def add(self, num1,num2):\n",
        "    print(\"Addition of {} and {} = {}\".format(num1,num2,num1+num2))\n",
        "\n",
        "  def sub(self,num1,num2):\n",
        "    print(\"Subtraction of {} and {} = {}\".format(num1,num2,num1-num2))\n",
        "\n",
        "  def multiply(self,num1,num2):\n",
        "    print(\"Multiplication of {} and {} = {}\".format(num1,num2,num1*num2))\n",
        "\n",
        "  def divide(self,num1,num2):\n",
        "    try:\n",
        "      num1/num2\n",
        "    except ZeroDivisionError as e:\n",
        "      print(\"Division by zero not allowed\")\n",
        "    else:\n",
        "      print(\"Division of {} and {} = {}\".format(num1,num2,num1//num2))    #floor division\n",
        "\n",
        "  def display(self):\n",
        "    self.add(self._num1, self._num2)\n",
        "    self.sub(self._num1, self._num2)\n",
        "    self.multiply(self._num1, self._num2)\n",
        "    self.divide(self._num1, self._num2)\n",
        "\n",
        "\n",
        "class AdvanceCalculate(Calculate):\n",
        "  def __init__(self, num1,num2):\n",
        "    super().__init__(num1,num2)\n",
        "\n",
        "  def exponent(self,num1,num2):\n",
        "    print(\"{} exponent of {} = {}\".format(num1,num2,num1**num2))\n",
        "\n",
        "  def display(self):\n",
        "    super().display()\n",
        "    self.exponent(self._num1, self._num2)\n",
        "\n",
        "\n"
      ],
      "metadata": {
        "id": "smTP5r8WvrpH"
      },
      "execution_count": 177,
      "outputs": []
    },
    {
      "cell_type": "code",
      "source": [
        "print(\"Please enter two numbers :\")\n",
        "number1 = int(input(\"1st number: \"))\n",
        "number2 = int(input(\"2nd number: \"))\n",
        "\n",
        "obj1 = Calculate(number1, number2)\n",
        "\n",
        "obj1.display()\n",
        "\n"
      ],
      "metadata": {
        "colab": {
          "base_uri": "https://localhost:8080/"
        },
        "id": "bC6bTolL2CKW",
        "outputId": "0a8aa5ad-4fa4-434d-a875-3a0df275c0c9"
      },
      "execution_count": 178,
      "outputs": [
        {
          "output_type": "stream",
          "name": "stdout",
          "text": [
            "Please enter two numbers :\n",
            "1st number: 4\n",
            "2nd number: 5\n",
            "Addition of 4 and 5 = 9\n",
            "Subtraction of 4 and 5 = -1\n",
            "Multiplication of 4 and 5 = 20\n",
            "Division of 4 and 5 = 0\n"
          ]
        }
      ]
    },
    {
      "cell_type": "code",
      "source": [
        "print(obj1.__z) # can not access private variables"
      ],
      "metadata": {
        "colab": {
          "base_uri": "https://localhost:8080/",
          "height": 166
        },
        "id": "a1oWMf0lCKeq",
        "outputId": "8600e495-b843-4c83-a06c-69acdf3ffa5c"
      },
      "execution_count": 179,
      "outputs": [
        {
          "output_type": "error",
          "ename": "AttributeError",
          "evalue": "ignored",
          "traceback": [
            "\u001b[0;31m---------------------------------------------------------------------------\u001b[0m",
            "\u001b[0;31mAttributeError\u001b[0m                            Traceback (most recent call last)",
            "\u001b[0;32m<ipython-input-179-15a148c07094>\u001b[0m in \u001b[0;36m<module>\u001b[0;34m\u001b[0m\n\u001b[0;32m----> 1\u001b[0;31m \u001b[0mprint\u001b[0m\u001b[0;34m(\u001b[0m\u001b[0mobj1\u001b[0m\u001b[0;34m.\u001b[0m\u001b[0m__z\u001b[0m\u001b[0;34m)\u001b[0m \u001b[0;31m# can not access private variables\u001b[0m\u001b[0;34m\u001b[0m\u001b[0;34m\u001b[0m\u001b[0m\n\u001b[0m",
            "\u001b[0;31mAttributeError\u001b[0m: 'Calculate' object has no attribute '__z'"
          ]
        }
      ]
    },
    {
      "cell_type": "code",
      "source": [
        "obj2 = AdvanceCalculate(3, 5)\n",
        "\n",
        "obj2.display()\n"
      ],
      "metadata": {
        "colab": {
          "base_uri": "https://localhost:8080/"
        },
        "id": "cI-6-w8q86nk",
        "outputId": "6c3707cb-1b65-465f-8eaa-91fb51b00e09"
      },
      "execution_count": 180,
      "outputs": [
        {
          "output_type": "stream",
          "name": "stdout",
          "text": [
            "Addition of 3 and 5 = 8\n",
            "Subtraction of 3 and 5 = -2\n",
            "Multiplication of 3 and 5 = 15\n",
            "Division of 3 and 5 = 0\n",
            "3 exponent of 5 = 243\n"
          ]
        }
      ]
    },
    {
      "cell_type": "code",
      "source": [],
      "metadata": {
        "id": "tPvTUfLz9WGZ"
      },
      "execution_count": null,
      "outputs": []
    },
    {
      "cell_type": "code",
      "source": [],
      "metadata": {
        "id": "fRVbCmq6ApJ1"
      },
      "execution_count": null,
      "outputs": []
    }
  ]
}