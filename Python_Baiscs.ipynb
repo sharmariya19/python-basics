{
  "nbformat": 4,
  "nbformat_minor": 0,
  "metadata": {
    "colab": {
      "provenance": [],
      "collapsed_sections": []
    },
    "kernelspec": {
      "name": "python3",
      "display_name": "Python 3"
    },
    "language_info": {
      "name": "python"
    }
  },
  "cells": [
    {
      "cell_type": "code",
      "execution_count": 143,
      "metadata": {
        "colab": {
          "base_uri": "https://localhost:8080/"
        },
        "id": "UYUBYhWmi5Gj",
        "outputId": "bb0e4cb6-4696-4260-a3fc-e0b38b41cc5b"
      },
      "outputs": [
        {
          "output_type": "stream",
          "name": "stdout",
          "text": [
            "Hello, World!\n"
          ]
        }
      ],
      "source": [
        "print(\"Hello, World!\")"
      ]
    },
    {
      "cell_type": "code",
      "source": [
        "# Variable creation\n",
        "name = \"Riya\"\n",
        "age = 21\n",
        "is_student = True\n",
        "\n",
        "\n",
        "print(name)\n",
        "print(type(name))   # data type of variable\n",
        "print(age, type(age))\n",
        "print(is_student , type(is_student))\n",
        "\n",
        "# Type Casting\n",
        "a = 3\n",
        "b = float(a)\n",
        "c = 3.2\n",
        "d = int(c)\n",
        "\n",
        "print(\"a = \",a, type(a))\n",
        "print(\"b = \", b, type(b))\n",
        "print(\"c = \",c, type(c))\n",
        "print(\"d = \",d, type(d))\n",
        "\n",
        "x,y,z = 1,2,3\n",
        "a=b=c=10   #one value to multiple variables\n",
        "print(\"a= {}, b= {}, c= {}, x={}, y={}, z={}\".format(a,b,c,x,y,z))"
      ],
      "metadata": {
        "colab": {
          "base_uri": "https://localhost:8080/"
        },
        "id": "y4r6kqTqjK4d",
        "outputId": "7c34fc2b-8350-432d-c8fb-fe2797e99ffe"
      },
      "execution_count": 144,
      "outputs": [
        {
          "output_type": "stream",
          "name": "stdout",
          "text": [
            "Riya\n",
            "<class 'str'>\n",
            "21 <class 'int'>\n",
            "True <class 'bool'>\n",
            "a =  3 <class 'int'>\n",
            "b =  3.0 <class 'float'>\n",
            "c =  3.2 <class 'float'>\n",
            "d =  3 <class 'int'>\n",
            "a= 10, b= 10, c= 10, x=1, y=2, z=3\n"
          ]
        }
      ]
    },
    {
      "cell_type": "code",
      "source": [
        "# Strings\n",
        "\n",
        "for x in name:\n",
        "  print(x)\n",
        "\n",
        "\n",
        "greeting = \"Good Morning\"\n",
        "\n",
        "print(greeting[:4])\n",
        "print(greeting[5:])\n",
        "print(\"length:\", len(greeting))\n",
        "\n",
        "if \"R\" in name:\n",
        "  print(\"R is present in {name_}\".format(name_ = name.upper()))\n",
        "else:\n",
        "  print(\"R is not present in {name_}\".format(name_ = name.upper()))\n",
        "\n",
        "\n",
        "print(\"o occur in Hello at: \", \"Hello\".index('o'))"
      ],
      "metadata": {
        "colab": {
          "base_uri": "https://localhost:8080/"
        },
        "id": "UwrejYZRjsLe",
        "outputId": "1ccb320e-4559-4c35-9655-1957cbb90db1"
      },
      "execution_count": 145,
      "outputs": [
        {
          "output_type": "stream",
          "name": "stdout",
          "text": [
            "R\n",
            "i\n",
            "y\n",
            "a\n",
            "Good\n",
            "Morning\n",
            "length: 12\n",
            "R is present in RIYA\n",
            "o occur in Hello at:  4\n"
          ]
        }
      ]
    },
    {
      "cell_type": "code",
      "source": [
        "\n",
        "\n",
        "def even_odd(num):\n",
        "  if num%2 == 0:\n",
        "      return(\"even\")\n",
        "  else:\n",
        "      return(\"odd\")\n",
        "\n",
        "def int_val(a):\n",
        "  if a>0:\n",
        "    return(\"Positive \"+ even_odd(a))   \n",
        "  elif a<0:\n",
        "    return(\"Negative \"+ even_odd(a))\n",
        "  else:\n",
        "    return(\"Zero\")\n",
        "\n",
        "\n",
        "print(\"3 is : \" + int_val(3))\n",
        "print(\"10 is : \" + int_val(10))"
      ],
      "metadata": {
        "colab": {
          "base_uri": "https://localhost:8080/"
        },
        "id": "dlL98WrWj7ya",
        "outputId": "d2e40609-ca67-48ef-e589-73ff360f6563"
      },
      "execution_count": 146,
      "outputs": [
        {
          "output_type": "stream",
          "name": "stdout",
          "text": [
            "3 is : Positive odd\n",
            "10 is : Positive even\n"
          ]
        }
      ]
    },
    {
      "cell_type": "code",
      "source": [
        "# arbitrary arguments\n",
        "def sum(no, *value):\n",
        "  sum=0\n",
        "  for i in value:\n",
        "    sum+=i\n",
        "  else:\n",
        "    return sum\n",
        "\n",
        "ans = sum(5,1,2,3,4,5)\n",
        "print(ans)"
      ],
      "metadata": {
        "colab": {
          "base_uri": "https://localhost:8080/"
        },
        "id": "Vpa6eLaaETPE",
        "outputId": "cfcc2da1-b8e0-49f8-bcd8-fcf846e0f440"
      },
      "execution_count": 147,
      "outputs": [
        {
          "output_type": "stream",
          "name": "stdout",
          "text": [
            "15\n"
          ]
        }
      ]
    },
    {
      "cell_type": "code",
      "source": [
        "# lambda function\n",
        "sum = lambda num1, num2 : num1 + num2\n",
        "print(sum(500, 600))"
      ],
      "metadata": {
        "colab": {
          "base_uri": "https://localhost:8080/"
        },
        "id": "LUzqOBjzFfGB",
        "outputId": "7f19b284-4939-4aaa-eca0-bc88cc5e438b"
      },
      "execution_count": 148,
      "outputs": [
        {
          "output_type": "stream",
          "name": "stdout",
          "text": [
            "1100\n"
          ]
        }
      ]
    },
    {
      "cell_type": "code",
      "source": [
        "# List\n",
        "lst = ['riya', 'khushi','ananya']\n",
        "for name in lst:\n",
        "  if 'a' in name:\n",
        "    print(name)\n",
        "\n",
        "print(lst[0])\n",
        "lst.append('chhavi')\n",
        "print(lst)\n",
        "print(len(lst))\n",
        "print(lst[:2])\n",
        "lst.remove('riya')\n",
        "print(lst)\n",
        "lst.sort()\n",
        "print(lst)"
      ],
      "metadata": {
        "colab": {
          "base_uri": "https://localhost:8080/"
        },
        "id": "Jw8_9RhSs-jh",
        "outputId": "5fb32917-03e3-4d75-f65f-dd351ce8e372"
      },
      "execution_count": 149,
      "outputs": [
        {
          "output_type": "stream",
          "name": "stdout",
          "text": [
            "riya\n",
            "ananya\n",
            "riya\n",
            "['riya', 'khushi', 'ananya', 'chhavi']\n",
            "4\n",
            "['riya', 'khushi']\n",
            "['khushi', 'ananya', 'chhavi']\n",
            "['ananya', 'chhavi', 'khushi']\n"
          ]
        }
      ]
    },
    {
      "cell_type": "code",
      "source": [
        "#map function\n",
        "lst1 = [1,2,3,4,5,6]\n",
        "\n",
        "def lst_fun(n):\n",
        "  return n*2\n",
        "\n",
        "res = map(lst_fun, lst1)\n",
        "\n",
        "print(list(res))"
      ],
      "metadata": {
        "colab": {
          "base_uri": "https://localhost:8080/"
        },
        "id": "ZCVwxn87GktE",
        "outputId": "a81bc95b-592c-4d07-ab08-316e02ff4f6d"
      },
      "execution_count": 150,
      "outputs": [
        {
          "output_type": "stream",
          "name": "stdout",
          "text": [
            "[2, 4, 6, 8, 10, 12]\n"
          ]
        }
      ]
    },
    {
      "cell_type": "code",
      "source": [
        "#tuple\n",
        "mytuple = tuple(lst)\n",
        "print(mytuple)\n",
        "print(\"lenght: \", len(mytuple))\n",
        "print(mytuple[0])\n",
        "# mytuple[0] = \"tanu\" # tuple value can't be changed or removed"
      ],
      "metadata": {
        "colab": {
          "base_uri": "https://localhost:8080/"
        },
        "id": "jShhd7i4uMN2",
        "outputId": "0045eec3-ef55-40be-c949-c3c4c4abc25c"
      },
      "execution_count": 151,
      "outputs": [
        {
          "output_type": "stream",
          "name": "stdout",
          "text": [
            "('ananya', 'chhavi', 'khushi')\n",
            "lenght:  3\n",
            "ananya\n"
          ]
        }
      ]
    },
    {
      "cell_type": "code",
      "source": [
        "#sets\n",
        "\n",
        "myset = {1,2,3,4,1,2}\n",
        "print(myset)\n",
        "#print(myset[0])  # indexing not allowed in set"
      ],
      "metadata": {
        "colab": {
          "base_uri": "https://localhost:8080/"
        },
        "id": "STbnn03puWfX",
        "outputId": "90def94b-d7e7-404b-9df4-8cc02a1716df"
      },
      "execution_count": 152,
      "outputs": [
        {
          "output_type": "stream",
          "name": "stdout",
          "text": [
            "{1, 2, 3, 4}\n"
          ]
        }
      ]
    },
    {
      "cell_type": "code",
      "source": [
        "# dictionary\n",
        "\n",
        "mydict = {\n",
        "    \"name\":\"riya\",\n",
        "    \"year\":4,\n",
        "    \"sem\":7\n",
        "}\n",
        "print(mydict[\"name\"])\n",
        "mydict[\"name\"] = \"khushi\"\n",
        "print(mydict)\n",
        "mydict[\"marks\"] = 60\n",
        "print(mydict)"
      ],
      "metadata": {
        "colab": {
          "base_uri": "https://localhost:8080/"
        },
        "id": "UDewEHclutGE",
        "outputId": "6e77b716-3646-4741-fdc9-1fc3bee95dff"
      },
      "execution_count": 153,
      "outputs": [
        {
          "output_type": "stream",
          "name": "stdout",
          "text": [
            "riya\n",
            "{'name': 'khushi', 'year': 4, 'sem': 7}\n",
            "{'name': 'khushi', 'year': 4, 'sem': 7, 'marks': 60}\n"
          ]
        }
      ]
    },
    {
      "cell_type": "code",
      "source": [
        "# Classes and Objects\n",
        "\n",
        "class Calculate:\n",
        "  __z = 20\n",
        "  _a = 0\n",
        "  _b = 0\n",
        "  def __init__(self,num_1,num_2):    # class constructor\n",
        "    self._a = num_1\n",
        "    self._b = num_2\n",
        "  \n",
        "  def add(self, a,b):\n",
        "    print(\"Addition of {} and {} = {}\".format(a,b,a+b))\n",
        "\n",
        "  def sub(self,a,b):\n",
        "    print(\"Subtraction of {} and {} = {}\".format(a,b,a-b))\n",
        "\n",
        "  def multiply(self,a,b):\n",
        "    print(\"Multiplication of {} and {} = {}\".format(a,b,a*b))\n",
        "\n",
        "  def divide(self,a,b):\n",
        "    try:\n",
        "      a/b\n",
        "    except ZeroDivisionError as e:\n",
        "      print(\"Division by zero not allowed\")\n",
        "    else:\n",
        "      print(\"Division of {} and {} = {}\".format(a,b,a//b))    #floor division\n",
        "\n",
        "  def display(self):\n",
        "    self.add(self._a, self._b)\n",
        "    self.sub(self._a, self._b)\n",
        "    self.multiply(self._a, self._b)\n",
        "    self.divide(self._a, self._b)\n",
        "\n",
        "\n",
        "class AdvanceCalculate(Calculate):\n",
        "  def __init__(self, a,b):\n",
        "    super().__init__(a,b)\n",
        "\n",
        "  def exponent(self,a,b):\n",
        "    print(\"{} exponent of {} = {}\".format(a,b,a**b))\n",
        "\n",
        "  def display(self):\n",
        "    super().display()\n",
        "    self.exponent(self._a, self._b)\n",
        "\n",
        "\n"
      ],
      "metadata": {
        "id": "smTP5r8WvrpH"
      },
      "execution_count": 154,
      "outputs": []
    },
    {
      "cell_type": "code",
      "source": [
        "print(\"Please enter two numbers :\")\n",
        "num1 = int(input(\"1st number: \"))\n",
        "num2 = int(input(\"2nd number: \"))\n",
        "\n",
        "obj1 = Calculate(num1, num2)\n",
        "\n",
        "obj1.display()\n",
        "\n"
      ],
      "metadata": {
        "colab": {
          "base_uri": "https://localhost:8080/"
        },
        "id": "bC6bTolL2CKW",
        "outputId": "0df500ff-0c0b-4f7a-b53a-c6d31b0373c5"
      },
      "execution_count": 155,
      "outputs": [
        {
          "output_type": "stream",
          "name": "stdout",
          "text": [
            "Please enter two numbers :\n",
            "1st number: 6\n",
            "2nd number: 5\n",
            "Addition of 6 and 5 = 11\n",
            "Subtraction of 6 and 5 = 1\n",
            "Multiplication of 6 and 5 = 30\n",
            "Division of 6 and 5 = 1\n"
          ]
        }
      ]
    },
    {
      "cell_type": "code",
      "source": [
        "print(obj1.__z) # can not access private variables"
      ],
      "metadata": {
        "colab": {
          "base_uri": "https://localhost:8080/",
          "height": 166
        },
        "id": "a1oWMf0lCKeq",
        "outputId": "75ce990d-b6bd-4cd8-cf21-66a49f68acb5"
      },
      "execution_count": 156,
      "outputs": [
        {
          "output_type": "error",
          "ename": "AttributeError",
          "evalue": "ignored",
          "traceback": [
            "\u001b[0;31m---------------------------------------------------------------------------\u001b[0m",
            "\u001b[0;31mAttributeError\u001b[0m                            Traceback (most recent call last)",
            "\u001b[0;32m<ipython-input-156-15a148c07094>\u001b[0m in \u001b[0;36m<module>\u001b[0;34m\u001b[0m\n\u001b[0;32m----> 1\u001b[0;31m \u001b[0mprint\u001b[0m\u001b[0;34m(\u001b[0m\u001b[0mobj1\u001b[0m\u001b[0;34m.\u001b[0m\u001b[0m__z\u001b[0m\u001b[0;34m)\u001b[0m \u001b[0;31m# can not access private variables\u001b[0m\u001b[0;34m\u001b[0m\u001b[0;34m\u001b[0m\u001b[0m\n\u001b[0m",
            "\u001b[0;31mAttributeError\u001b[0m: 'Calculate' object has no attribute '__z'"
          ]
        }
      ]
    },
    {
      "cell_type": "code",
      "source": [
        "obj2 = AdvanceCalculate(3, 5)\n",
        "\n",
        "obj2.display()\n"
      ],
      "metadata": {
        "colab": {
          "base_uri": "https://localhost:8080/"
        },
        "id": "cI-6-w8q86nk",
        "outputId": "6f8301a5-7032-4313-c425-5c4a66e260f5"
      },
      "execution_count": 157,
      "outputs": [
        {
          "output_type": "stream",
          "name": "stdout",
          "text": [
            "Addition of 3 and 5 = 8\n",
            "Subtraction of 3 and 5 = -2\n",
            "Multiplication of 3 and 5 = 15\n",
            "Division of 3 and 5 = 0\n",
            "3 exponent of 5 = 243\n"
          ]
        }
      ]
    },
    {
      "cell_type": "code",
      "source": [],
      "metadata": {
        "id": "tPvTUfLz9WGZ"
      },
      "execution_count": 130,
      "outputs": []
    },
    {
      "cell_type": "code",
      "source": [],
      "metadata": {
        "id": "fRVbCmq6ApJ1"
      },
      "execution_count": null,
      "outputs": []
    }
  ]
}