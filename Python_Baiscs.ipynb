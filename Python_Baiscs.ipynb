{
  "nbformat": 4,
  "nbformat_minor": 0,
  "metadata": {
    "colab": {
      "provenance": [],
      "authorship_tag": "ABX9TyNwGRj5SXaUJTuzWpL0AnYV",
      "include_colab_link": true
    },
    "kernelspec": {
      "name": "python3",
      "display_name": "Python 3"
    },
    "language_info": {
      "name": "python"
    }
  },
  "cells": [
    {
      "cell_type": "markdown",
      "metadata": {
        "id": "view-in-github",
        "colab_type": "text"
      },
      "source": [
        "<a href=\"https://colab.research.google.com/github/sharmariya19/python-basics/blob/main/Python_Baiscs.ipynb\" target=\"_parent\"><img src=\"https://colab.research.google.com/assets/colab-badge.svg\" alt=\"Open In Colab\"/></a>"
      ]
    },
    {
      "cell_type": "code",
      "execution_count": 1,
      "metadata": {
        "colab": {
          "base_uri": "https://localhost:8080/"
        },
        "id": "UYUBYhWmi5Gj",
        "outputId": "db1d93f1-650b-4d46-df25-d17e75668a85"
      },
      "outputs": [
        {
          "output_type": "stream",
          "name": "stdout",
          "text": [
            "Hello, World!\n"
          ]
        }
      ],
      "source": [
        "print(\"Hello, World!\")"
      ]
    },
    {
      "cell_type": "code",
      "source": [
        "# Variable creation\n",
        "name = \"Riya\"\n",
        "age = 21\n",
        "is_student = True\n",
        "\n",
        "\n",
        "print(name)\n",
        "print(type(name))   # data type of variable\n",
        "print(age, type(age))\n",
        "print(is_student , type(is_student))\n",
        "\n",
        "# Type Casting\n",
        "a = 3\n",
        "b = float(a)\n",
        "c = 3.2\n",
        "d = int(c)\n",
        "\n",
        "print(\"a = \",a, type(a))\n",
        "print(\"b = \", b, type(b))\n",
        "print(\"c = \",c, type(c))\n",
        "print(\"d = \",d, type(d))\n",
        "\n",
        "x,y,z = 1,2,3\n",
        "a=b=c=10   #one value to multiple variables\n",
        "print(\"a= {}, b= {}, c= {}, x={}, y={}, z={}\".format(a,b,c,x,y,z))"
      ],
      "metadata": {
        "colab": {
          "base_uri": "https://localhost:8080/"
        },
        "id": "y4r6kqTqjK4d",
        "outputId": "0db41c99-c226-4925-f8b6-97b506e673a3"
      },
      "execution_count": 2,
      "outputs": [
        {
          "output_type": "stream",
          "name": "stdout",
          "text": [
            "Riya\n",
            "<class 'str'>\n",
            "21 <class 'int'>\n",
            "True <class 'bool'>\n",
            "a =  3 <class 'int'>\n",
            "b =  3.0 <class 'float'>\n",
            "c =  3.2 <class 'float'>\n",
            "d =  3 <class 'int'>\n",
            "a= 10, b= 10, c= 10, x=1, y=2, z=3\n"
          ]
        }
      ]
    },
    {
      "cell_type": "code",
      "source": [
        "# Strings\n",
        "\n",
        "for x in name:\n",
        "  print(x)\n",
        "\n",
        "\n",
        "greeting = \"Good Morning\"\n",
        "\n",
        "print(greeting[:4])\n",
        "print(greeting[5:])\n",
        "print(\"length:\", len(greeting))\n",
        "\n",
        "if \"R\" in name:\n",
        "  print(\"R is present in {name_}\".format(name_ = name.upper()))\n",
        "else:\n",
        "  print(\"R is not present in {name_}\".format(name_ = name.upper()))\n",
        "\n",
        "\n",
        "print(\"o occur in Hello at: \", \"Hello\".index('o'))"
      ],
      "metadata": {
        "colab": {
          "base_uri": "https://localhost:8080/"
        },
        "id": "UwrejYZRjsLe",
        "outputId": "fd8890e9-0698-4e75-ec45-2e515326c3fd"
      },
      "execution_count": 3,
      "outputs": [
        {
          "output_type": "stream",
          "name": "stdout",
          "text": [
            "R\n",
            "i\n",
            "y\n",
            "a\n",
            "Good\n",
            "Morning\n",
            "length: 12\n",
            "R is present in RIYA\n",
            "o occur in Hello at:  4\n"
          ]
        }
      ]
    },
    {
      "cell_type": "code",
      "source": [
        "\n",
        "\n",
        "def even_odd(num):\n",
        "  if num%2 == 0:\n",
        "      return(\"even\")\n",
        "  else:\n",
        "      return(\"odd\")\n",
        "\n",
        "def int_val(val):\n",
        "  if val>0:\n",
        "    return(\"Positive \"+ even_odd(val))   \n",
        "  elif val<0:\n",
        "    return(\"Negative \"+ even_odd(val))\n",
        "  else:\n",
        "    return(\"Zero\")\n",
        "\n",
        "\n",
        "print(\"3 is : \" + int_val(3))\n",
        "print(\"10 is : \" + int_val(10))"
      ],
      "metadata": {
        "colab": {
          "base_uri": "https://localhost:8080/"
        },
        "id": "dlL98WrWj7ya",
        "outputId": "9bde4f32-fb65-4858-9b64-acddf9b3431b"
      },
      "execution_count": 4,
      "outputs": [
        {
          "output_type": "stream",
          "name": "stdout",
          "text": [
            "3 is : Positive odd\n",
            "10 is : Positive even\n"
          ]
        }
      ]
    },
    {
      "cell_type": "code",
      "source": [
        "# arbitrary arguments\n",
        "def sum(no, *value):\n",
        "  sum=0\n",
        "  for i in value:\n",
        "    sum+=i\n",
        "  else:\n",
        "    return sum\n",
        "\n",
        "ans = sum(5,1,2,3,4,5)\n",
        "print(ans)"
      ],
      "metadata": {
        "colab": {
          "base_uri": "https://localhost:8080/"
        },
        "id": "Vpa6eLaaETPE",
        "outputId": "96efc1c1-38e2-4c47-d379-a9dd195508bf"
      },
      "execution_count": 5,
      "outputs": [
        {
          "output_type": "stream",
          "name": "stdout",
          "text": [
            "15\n"
          ]
        }
      ]
    },
    {
      "cell_type": "code",
      "source": [
        "# lambda function\n",
        "sum = lambda num1, num2 : num1 + num2\n",
        "print(sum(500, 600))"
      ],
      "metadata": {
        "colab": {
          "base_uri": "https://localhost:8080/"
        },
        "id": "LUzqOBjzFfGB",
        "outputId": "bf738817-9b29-4349-c0fd-8eaebb909611"
      },
      "execution_count": 6,
      "outputs": [
        {
          "output_type": "stream",
          "name": "stdout",
          "text": [
            "1100\n"
          ]
        }
      ]
    },
    {
      "cell_type": "code",
      "source": [
        "# List\n",
        "names = ['riya', 'khushi','ananya']\n",
        "for name in names:\n",
        "  if 'a' in name:\n",
        "    print(name)\n",
        "\n",
        "print(names[0])\n",
        "names.append('chhavi')\n",
        "print(names)\n",
        "print(len(names))\n",
        "print(names[:2])\n",
        "names.remove('riya')\n",
        "print(names)\n",
        "names.sort()\n",
        "print(names)"
      ],
      "metadata": {
        "colab": {
          "base_uri": "https://localhost:8080/"
        },
        "id": "Jw8_9RhSs-jh",
        "outputId": "79c93b63-7339-4951-b95b-dbd3518834a0"
      },
      "execution_count": 7,
      "outputs": [
        {
          "output_type": "stream",
          "name": "stdout",
          "text": [
            "riya\n",
            "ananya\n",
            "riya\n",
            "['riya', 'khushi', 'ananya', 'chhavi']\n",
            "4\n",
            "['riya', 'khushi']\n",
            "['khushi', 'ananya', 'chhavi']\n",
            "['ananya', 'chhavi', 'khushi']\n"
          ]
        }
      ]
    },
    {
      "cell_type": "code",
      "source": [
        "#map function\n",
        "lst1 = [1,2,3,4,5,6]\n",
        "\n",
        "def lst_fun(n):\n",
        "  return n*2\n",
        "\n",
        "res = map(lst_fun, lst1)\n",
        "\n",
        "print(list(res))"
      ],
      "metadata": {
        "colab": {
          "base_uri": "https://localhost:8080/"
        },
        "id": "ZCVwxn87GktE",
        "outputId": "2a5b7355-3746-414c-e133-753ffbfc4ade"
      },
      "execution_count": 8,
      "outputs": [
        {
          "output_type": "stream",
          "name": "stdout",
          "text": [
            "[2, 4, 6, 8, 10, 12]\n"
          ]
        }
      ]
    },
    {
      "cell_type": "code",
      "source": [
        "#tuple\n",
        "nametuple = tuple(names)\n",
        "print(nametuple)\n",
        "print(\"lenght: \", len(nametuple))\n",
        "print(nametuple[0])\n",
        "# mytuple[0] = \"tanu\" # tuple value can't be changed or removed"
      ],
      "metadata": {
        "colab": {
          "base_uri": "https://localhost:8080/"
        },
        "id": "jShhd7i4uMN2",
        "outputId": "c6a2ba3d-eea4-4f3b-ebf5-bd7865dd1129"
      },
      "execution_count": 9,
      "outputs": [
        {
          "output_type": "stream",
          "name": "stdout",
          "text": [
            "('ananya', 'chhavi', 'khushi')\n",
            "lenght:  3\n",
            "ananya\n"
          ]
        }
      ]
    },
    {
      "cell_type": "code",
      "source": [
        "#sets\n",
        "\n",
        "myset = {1,2,3,4,1,2}\n",
        "print(myset)\n",
        "#print(myset[0])  # indexing not allowed in set"
      ],
      "metadata": {
        "colab": {
          "base_uri": "https://localhost:8080/"
        },
        "id": "STbnn03puWfX",
        "outputId": "d28b3396-7f23-4442-e506-5a7b3ad33b92"
      },
      "execution_count": 10,
      "outputs": [
        {
          "output_type": "stream",
          "name": "stdout",
          "text": [
            "{1, 2, 3, 4}\n"
          ]
        }
      ]
    },
    {
      "cell_type": "code",
      "source": [
        "# dictionary\n",
        "\n",
        "detail = {\n",
        "    \"name\":\"riya\",\n",
        "    \"year\":4,\n",
        "    \"sem\":7\n",
        "}\n",
        "print(detail[\"name\"])\n",
        "detail[\"name\"] = \"khushi\"\n",
        "print(detail)\n",
        "detail[\"marks\"] = 60\n",
        "print(detail)"
      ],
      "metadata": {
        "colab": {
          "base_uri": "https://localhost:8080/"
        },
        "id": "UDewEHclutGE",
        "outputId": "776dd464-052d-467a-b8c2-f1a2d6abd0a3"
      },
      "execution_count": 11,
      "outputs": [
        {
          "output_type": "stream",
          "name": "stdout",
          "text": [
            "riya\n",
            "{'name': 'khushi', 'year': 4, 'sem': 7}\n",
            "{'name': 'khushi', 'year': 4, 'sem': 7, 'marks': 60}\n"
          ]
        }
      ]
    },
    {
      "cell_type": "code",
      "source": [
        "# Classes and Objects\n",
        "x=10\n",
        "class Calculate:\n",
        "  __num = 20\n",
        "  _num1 = 0\n",
        "  _num2 = 0\n",
        "  def __init__(self,num1,num2):    # class constructor\n",
        "    self._num1 = num1\n",
        "    self._num2 = num2\n",
        "  \n",
        "  def add(self):\n",
        "    print(\"Addition of {} and {} = {}\".format(self._num1, self._num2, self._num1+self._num2))\n",
        "\n",
        "  def sub(self):\n",
        "    print(\"Subtraction of {} and {} = {}\".format(self._num1, self._num2, self._num1-self._num2))\n",
        "\n",
        "  def multiply(self):\n",
        "    print(\"Multiplication of {} and {} = {}\".format(self._num1, self._num2, self._num1*self._num2))\n",
        "\n",
        "  def divide(self):\n",
        "    try:\n",
        "      self._num1/self._num2\n",
        "    except ZeroDivisionError as e:\n",
        "      print(\"Division by zero not allowed\")\n",
        "    else:\n",
        "      print(\"Division of {} and {} = {}\".format(self._num1,self._num2,self._num1//self._num2))    #floor division\n",
        "\n",
        "  def display(self):\n",
        "    self.add()\n",
        "    self.sub()\n",
        "    self.multiply()\n",
        "    self.divide()\n",
        "\n",
        "\n",
        "class AdvanceCalculate(Calculate):\n",
        "  def __init__(self, num1,num2):\n",
        "    super().__init__(num1,num2)\n",
        "\n",
        "  def exponent(self):\n",
        "    print(\"{} to the power of {} = {}\".format(self._num1, self._num2, self._num1**self._num2))\n",
        "\n",
        "  def display(self):\n",
        "    super().display()\n",
        "    self.exponent()\n",
        "\n",
        "\n"
      ],
      "metadata": {
        "id": "smTP5r8WvrpH"
      },
      "execution_count": 12,
      "outputs": []
    },
    {
      "cell_type": "code",
      "source": [
        "print(\"Please enter two numbers :\")\n",
        "number1 = int(input(\"1st number: \"))\n",
        "number2 = int(input(\"2nd number: \"))\n",
        "\n",
        "obj1 = Calculate(number1, number2)\n",
        "\n",
        "obj1.display()\n",
        "\n"
      ],
      "metadata": {
        "colab": {
          "base_uri": "https://localhost:8080/"
        },
        "id": "bC6bTolL2CKW",
        "outputId": "4ff1b9ac-2a45-49e9-ec88-74804c12fdc3"
      },
      "execution_count": 13,
      "outputs": [
        {
          "output_type": "stream",
          "name": "stdout",
          "text": [
            "Please enter two numbers :\n",
            "1st number: 5\n",
            "2nd number: 6\n",
            "Addition of 5 and 6 = 11\n",
            "Subtraction of 5 and 6 = -1\n",
            "Multiplication of 5 and 6 = 30\n",
            "Division of 5 and 6 = 0\n"
          ]
        }
      ]
    },
    {
      "cell_type": "code",
      "source": [
        "print(obj1.__num) # can not access private variables"
      ],
      "metadata": {
        "colab": {
          "base_uri": "https://localhost:8080/",
          "height": 166
        },
        "id": "a1oWMf0lCKeq",
        "outputId": "8f2611c7-3fa2-456d-d711-ddc69f50324f"
      },
      "execution_count": 14,
      "outputs": [
        {
          "output_type": "error",
          "ename": "AttributeError",
          "evalue": "ignored",
          "traceback": [
            "\u001b[0;31m---------------------------------------------------------------------------\u001b[0m",
            "\u001b[0;31mAttributeError\u001b[0m                            Traceback (most recent call last)",
            "\u001b[0;32m<ipython-input-14-480afdff5832>\u001b[0m in \u001b[0;36m<module>\u001b[0;34m\u001b[0m\n\u001b[0;32m----> 1\u001b[0;31m \u001b[0mprint\u001b[0m\u001b[0;34m(\u001b[0m\u001b[0mobj1\u001b[0m\u001b[0;34m.\u001b[0m\u001b[0m__num\u001b[0m\u001b[0;34m)\u001b[0m \u001b[0;31m# can not access private variables\u001b[0m\u001b[0;34m\u001b[0m\u001b[0;34m\u001b[0m\u001b[0m\n\u001b[0m",
            "\u001b[0;31mAttributeError\u001b[0m: 'Calculate' object has no attribute '__num'"
          ]
        }
      ]
    },
    {
      "cell_type": "code",
      "source": [
        "obj2 = AdvanceCalculate(3, 5)\n",
        "\n",
        "obj2.display()\n"
      ],
      "metadata": {
        "colab": {
          "base_uri": "https://localhost:8080/"
        },
        "id": "cI-6-w8q86nk",
        "outputId": "95d03d58-0995-49b1-d75b-a315da999fed"
      },
      "execution_count": 15,
      "outputs": [
        {
          "output_type": "stream",
          "name": "stdout",
          "text": [
            "Addition of 3 and 5 = 8\n",
            "Subtraction of 3 and 5 = -2\n",
            "Multiplication of 3 and 5 = 15\n",
            "Division of 3 and 5 = 0\n",
            "3 to the power of 5 = 243\n"
          ]
        }
      ]
    },
    {
      "cell_type": "code",
      "source": [
        "#iterators\n",
        "\n",
        "vowels = (\"a\", \"e\",\"i\",\"o\",\"u\")\n",
        "it = iter(vowels)\n",
        "\n",
        "print(next(it))\n",
        "print(next(it))\n",
        "print(next(it))\n",
        "print(next(it))"
      ],
      "metadata": {
        "id": "OMropDvZ-gV7",
        "colab": {
          "base_uri": "https://localhost:8080/"
        },
        "outputId": "6a430249-079b-478d-e5f0-d053ee63970c"
      },
      "execution_count": 16,
      "outputs": [
        {
          "output_type": "stream",
          "name": "stdout",
          "text": [
            "a\n",
            "e\n",
            "i\n",
            "o\n"
          ]
        }
      ]
    },
    {
      "cell_type": "code",
      "source": [
        "#generator function\n",
        "def fruits():\n",
        "    yield (\"Mango\")\n",
        "    yield(\"Apple\")\n",
        "    yield(\"Banana\")\n",
        "\n",
        "fruit = fruits()\n",
        "\n",
        "for _ in range(3):\n",
        "  print(next(fruit))\n",
        "else:\n",
        "  print(\"Done\")"
      ],
      "metadata": {
        "id": "tPvTUfLz9WGZ",
        "colab": {
          "base_uri": "https://localhost:8080/"
        },
        "outputId": "1ea045c8-fad4-4e9a-b65a-c40a7b427651"
      },
      "execution_count": 17,
      "outputs": [
        {
          "output_type": "stream",
          "name": "stdout",
          "text": [
            "Mango\n",
            "Apple\n",
            "Banana\n",
            "Done\n"
          ]
        }
      ]
    },
    {
      "cell_type": "code",
      "source": [
        "# closure functions\n",
        "\n",
        "def outer(initial_val):\n",
        "  start = initial_val\n",
        "  def inner(step = 2):\n",
        "    nonlocal start\n",
        "    start += step\n",
        "    print(start)\n",
        "\n",
        "  return inner\n",
        "          \n",
        "val = outer(3)"
      ],
      "metadata": {
        "id": "fRVbCmq6ApJ1"
      },
      "execution_count": 18,
      "outputs": []
    },
    {
      "cell_type": "code",
      "source": [
        "print(val)"
      ],
      "metadata": {
        "colab": {
          "base_uri": "https://localhost:8080/"
        },
        "id": "koKgWeFPAVGt",
        "outputId": "2b1975a8-73b3-4985-99a4-659ca5306e78"
      },
      "execution_count": 19,
      "outputs": [
        {
          "output_type": "stream",
          "name": "stdout",
          "text": [
            "<function outer.<locals>.inner at 0x7f5eca06fb00>\n"
          ]
        }
      ]
    },
    {
      "cell_type": "code",
      "source": [
        "val(3)"
      ],
      "metadata": {
        "colab": {
          "base_uri": "https://localhost:8080/"
        },
        "id": "eFXz6i5BAZpG",
        "outputId": "4fd68910-95a1-421f-dd9b-3a98fadc2b8e"
      },
      "execution_count": 20,
      "outputs": [
        {
          "output_type": "stream",
          "name": "stdout",
          "text": [
            "6\n"
          ]
        }
      ]
    },
    {
      "cell_type": "code",
      "source": [
        "val(1)"
      ],
      "metadata": {
        "colab": {
          "base_uri": "https://localhost:8080/"
        },
        "id": "-czdmXbAAeea",
        "outputId": "e0b76424-1a26-44c7-8c3c-d2cbfc185e80"
      },
      "execution_count": 21,
      "outputs": [
        {
          "output_type": "stream",
          "name": "stdout",
          "text": [
            "7\n"
          ]
        }
      ]
    },
    {
      "cell_type": "code",
      "source": [
        "# dataclasses\n",
        "\n",
        "from dataclasses import dataclass\n",
        "\n",
        "@dataclass\n",
        "class Person:\n",
        "  name:str\n",
        "  age:int\n",
        "  job:str\n",
        "\n",
        "person1 = Person(\"arya\",30,\"accountant\")\n",
        "person2 = Person(\"faiz\", 35, \"guard\")\n",
        "\n",
        "print(person1)\n",
        "print(person2.name)"
      ],
      "metadata": {
        "colab": {
          "base_uri": "https://localhost:8080/"
        },
        "id": "Xz1g78qMAxen",
        "outputId": "8f7e8f22-7b53-4c76-9178-17668b799b49"
      },
      "execution_count": 22,
      "outputs": [
        {
          "output_type": "stream",
          "name": "stdout",
          "text": [
            "Person(name='arya', age=30, job='accountant')\n",
            "faiz\n"
          ]
        }
      ]
    },
    {
      "cell_type": "code",
      "source": [
        "# decorator function\n",
        "\n",
        "def name(func):\n",
        "  print(\"Inside name fun\")\n",
        "\n",
        "  def inner(val):\n",
        "    print(\"Inside inner\")\n",
        "    # val = func()\n",
        "    return val\n",
        "  return inner\n",
        "\n",
        "\n",
        "@name\n",
        "def greet(val):\n",
        "  print(\"Inside greet\")\n",
        "  return val\n",
        "\n",
        "\n",
        "obj = greet(\"Hello\")\n",
        "print(obj)"
      ],
      "metadata": {
        "id": "um9WOynYFvdy",
        "colab": {
          "base_uri": "https://localhost:8080/"
        },
        "outputId": "48d52ec3-94c3-4cb3-d4ca-36dbe021fa89"
      },
      "execution_count": 23,
      "outputs": [
        {
          "output_type": "stream",
          "name": "stdout",
          "text": [
            "Inside name fun\n",
            "Inside inner\n",
            "Hello\n"
          ]
        }
      ]
    },
    {
      "cell_type": "code",
      "source": [],
      "metadata": {
        "id": "m-wp1RagWn3f"
      },
      "execution_count": null,
      "outputs": []
    }
  ]
}